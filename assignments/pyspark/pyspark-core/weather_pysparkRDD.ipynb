{
  "nbformat": 4,
  "nbformat_minor": 0,
  "metadata": {
    "colab": {
      "provenance": []
    },
    "kernelspec": {
      "name": "python3",
      "display_name": "Python 3"
    },
    "language_info": {
      "name": "python"
    }
  },
  "cells": [
    {
      "cell_type": "code",
      "execution_count": 2,
      "metadata": {
        "colab": {
          "base_uri": "https://localhost:8080/"
        },
        "id": "OFmrhR6LpfZj",
        "outputId": "e22b9c7d-8b79-4b1b-b171-5d99f56ff175"
      },
      "outputs": [
        {
          "output_type": "stream",
          "name": "stdout",
          "text": [
            "Looking in indexes: https://pypi.org/simple, https://us-python.pkg.dev/colab-wheels/public/simple/\n",
            "Collecting pyspark\n",
            "  Downloading pyspark-3.3.2.tar.gz (281.4 MB)\n",
            "\u001b[2K     \u001b[90m━━━━━━━━━━━━━━━━━━━━━━━━━━━━━━━━━━━━━━━\u001b[0m \u001b[32m281.4/281.4 MB\u001b[0m \u001b[31m5.2 MB/s\u001b[0m eta \u001b[36m0:00:00\u001b[0m\n",
            "\u001b[?25h  Preparing metadata (setup.py) ... \u001b[?25l\u001b[?25hdone\n",
            "Collecting py4j==0.10.9.5\n",
            "  Downloading py4j-0.10.9.5-py2.py3-none-any.whl (199 kB)\n",
            "\u001b[2K     \u001b[90m━━━━━━━━━━━━━━━━━━━━━━━━━━━━━━━━━━━━━━\u001b[0m \u001b[32m199.7/199.7 KB\u001b[0m \u001b[31m24.3 MB/s\u001b[0m eta \u001b[36m0:00:00\u001b[0m\n",
            "\u001b[?25hBuilding wheels for collected packages: pyspark\n",
            "  Building wheel for pyspark (setup.py) ... \u001b[?25l\u001b[?25hdone\n",
            "  Created wheel for pyspark: filename=pyspark-3.3.2-py2.py3-none-any.whl size=281824025 sha256=f2c195680ecc2ead56eec08325d2852e3e27f8486d84616fecbf32f9dd226801\n",
            "  Stored in directory: /root/.cache/pip/wheels/b1/59/a0/a1a0624b5e865fd389919c1a10f53aec9b12195d6747710baf\n",
            "Successfully built pyspark\n",
            "Installing collected packages: py4j, pyspark\n",
            "Successfully installed py4j-0.10.9.5 pyspark-3.3.2\n"
          ]
        }
      ],
      "source": [
        "!pip install pyspark"
      ]
    },
    {
      "cell_type": "code",
      "source": [
        "from pyspark import SparkContext\n",
        "\n",
        "sc = SparkContext()"
      ],
      "metadata": {
        "id": "OOhiYxHYpzyZ"
      },
      "execution_count": 3,
      "outputs": []
    },
    {
      "cell_type": "code",
      "source": [
        "\n",
        "rdd= sc.textFile(\"/content/drive/MyDrive/Colab Notebooks/spark/weather_data.txt\")\\\n",
        "    .map(lambda x: x.split(' '))\n",
        "rdd.take(3)"
      ],
      "metadata": {
        "colab": {
          "base_uri": "https://localhost:8080/"
        },
        "id": "tmM7VU7hpjZv",
        "outputId": "85de7b4c-25af-49d1-881b-cfe161f51549"
      },
      "execution_count": 7,
      "outputs": [
        {
          "output_type": "execute_result",
          "data": {
            "text/plain": [
              "[['23907',\n",
              "  '20150101',\n",
              "  '2.423',\n",
              "  '-98.08',\n",
              "  '30.62',\n",
              "  '2.2',\n",
              "  '-0.6',\n",
              "  '0.8',\n",
              "  '0.9',\n",
              "  '6.2',\n",
              "  '1.47',\n",
              "  'C',\n",
              "  '3.7',\n",
              "  '1.1',\n",
              "  '2.5',\n",
              "  '99.9',\n",
              "  '85.4',\n",
              "  '97.2',\n",
              "  '0.369',\n",
              "  '0.308',\n",
              "  '-99.000',\n",
              "  '-99.000',\n",
              "  '-99.000',\n",
              "  '7.0',\n",
              "  '8.1',\n",
              "  '-9999.0',\n",
              "  '-9999.0',\n",
              "  '-9999.0'],\n",
              " ['23907',\n",
              "  '20150102',\n",
              "  '2.423',\n",
              "  '-98.08',\n",
              "  '30.62',\n",
              "  '3.5',\n",
              "  '1.3',\n",
              "  '2.4',\n",
              "  '2.2',\n",
              "  '9.0',\n",
              "  '1.43',\n",
              "  'C',\n",
              "  '4.9',\n",
              "  '2.3',\n",
              "  '3.1',\n",
              "  '100.0',\n",
              "  '98.8',\n",
              "  '99.8',\n",
              "  '0.391',\n",
              "  '0.327',\n",
              "  '-99.000',\n",
              "  '-99.000',\n",
              "  '-99.000',\n",
              "  '7.1',\n",
              "  '7.9',\n",
              "  '-9999.0',\n",
              "  '-9999.0',\n",
              "  '-9999.0'],\n",
              " ['23907',\n",
              "  '20150103',\n",
              "  '2.423',\n",
              "  '-98.08',\n",
              "  '30.62',\n",
              "  '15.9',\n",
              "  '2.3',\n",
              "  '9.1',\n",
              "  '7.5',\n",
              "  '2.9',\n",
              "  '11.00',\n",
              "  'C',\n",
              "  '16.4',\n",
              "  '2.9',\n",
              "  '7.3',\n",
              "  '100.0',\n",
              "  '34.8',\n",
              "  '73.7',\n",
              "  '0.450',\n",
              "  '0.397',\n",
              "  '-99.000',\n",
              "  '-99.000',\n",
              "  '-99.000',\n",
              "  '7.6',\n",
              "  '7.9',\n",
              "  '-9999.0',\n",
              "  '-9999.0',\n",
              "  '-9999.0']]"
            ]
          },
          "metadata": {},
          "execution_count": 7
        }
      ]
    },
    {
      "cell_type": "code",
      "source": [
        "# maximum of daily tempreture\n",
        "\n",
        "rdd.map(lambda x: float(x[5])).max()"
      ],
      "metadata": {
        "colab": {
          "base_uri": "https://localhost:8080/"
        },
        "id": "Z0XcJ39MpjcE",
        "outputId": "28a26c37-d03b-4b51-e1b8-aa986619755e"
      },
      "execution_count": 9,
      "outputs": [
        {
          "output_type": "execute_result",
          "data": {
            "text/plain": [
              "36.0"
            ]
          },
          "metadata": {},
          "execution_count": 9
        }
      ]
    },
    {
      "cell_type": "code",
      "source": [
        "# minimum of daily tempreture\n",
        "\n",
        "rdd.map(lambda x: float(x[6])).min()"
      ],
      "metadata": {
        "colab": {
          "base_uri": "https://localhost:8080/"
        },
        "id": "5cixXr8Hpjec",
        "outputId": "ea17f526-066e-420f-e234-998eb5109043"
      },
      "execution_count": 11,
      "outputs": [
        {
          "output_type": "execute_result",
          "data": {
            "text/plain": [
              "-7.9"
            ]
          },
          "metadata": {},
          "execution_count": 11
        }
      ]
    },
    {
      "cell_type": "code",
      "source": [
        "maxT_rdd = rdd.map(lambda x : (x[1][4:6], float(x[5])) )\n",
        "maxT_rdd.take(3)"
      ],
      "metadata": {
        "colab": {
          "base_uri": "https://localhost:8080/"
        },
        "id": "zhHWMVCUpjgh",
        "outputId": "4c316dbe-e8dd-423a-c608-0387465cb503"
      },
      "execution_count": 13,
      "outputs": [
        {
          "output_type": "execute_result",
          "data": {
            "text/plain": [
              "[('01', 2.2), ('01', 3.5), ('01', 15.9)]"
            ]
          },
          "metadata": {},
          "execution_count": 13
        }
      ]
    },
    {
      "cell_type": "code",
      "source": [
        "# maximum tempreture month-wise\n",
        "\n",
        "maxT_rdd.groupByKey().mapValues(lambda values: max(values)).collect()"
      ],
      "metadata": {
        "colab": {
          "base_uri": "https://localhost:8080/"
        },
        "id": "P6AOWuCHpjik",
        "outputId": "73105c12-af3f-4ac4-8a34-099202db9ad4"
      },
      "execution_count": 14,
      "outputs": [
        {
          "output_type": "execute_result",
          "data": {
            "text/plain": [
              "[('03', 29.1),\n",
              " ('05', 31.1),\n",
              " ('06', 33.6),\n",
              " ('07', 36.0),\n",
              " ('01', 26.5),\n",
              " ('02', 26.6),\n",
              " ('04', 30.8)]"
            ]
          },
          "metadata": {},
          "execution_count": 14
        }
      ]
    },
    {
      "cell_type": "code",
      "source": [
        "# minimum tempreture month-wise\n",
        "minT_rdd = rdd.map(lambda x : (x[1][4:6], float(x[6])) )\n",
        "# minT_rdd.take(3)\n",
        "minT_rdd.groupByKey().mapValues(lambda values: min(values)).collect()"
      ],
      "metadata": {
        "colab": {
          "base_uri": "https://localhost:8080/"
        },
        "id": "IQUkJRANpjkr",
        "outputId": "03f53d61-62fc-44fb-a72b-02a47e672db7"
      },
      "execution_count": 15,
      "outputs": [
        {
          "output_type": "execute_result",
          "data": {
            "text/plain": [
              "[('03', -3.2),\n",
              " ('05', 14.3),\n",
              " ('06', 0.0),\n",
              " ('07', 19.8),\n",
              " ('01', -7.9),\n",
              " ('02', -3.5),\n",
              " ('04', 8.0)]"
            ]
          },
          "metadata": {},
          "execution_count": 15
        }
      ]
    },
    {
      "cell_type": "code",
      "source": [],
      "metadata": {
        "id": "XQZw7wlqsH4Z"
      },
      "execution_count": null,
      "outputs": []
    }
  ]
}