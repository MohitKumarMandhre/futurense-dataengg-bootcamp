{
  "nbformat": 4,
  "nbformat_minor": 0,
  "metadata": {
    "colab": {
      "provenance": []
    },
    "kernelspec": {
      "name": "python3",
      "display_name": "Python 3"
    },
    "language_info": {
      "name": "python"
    }
  },
  "cells": [
    {
      "cell_type": "code",
      "execution_count": null,
      "metadata": {
        "colab": {
          "base_uri": "https://localhost:8080/"
        },
        "id": "EBlBZ9P8oWcP",
        "outputId": "3027930b-736c-4d06-fd93-dbbc378fa830"
      },
      "outputs": [
        {
          "output_type": "stream",
          "name": "stdout",
          "text": [
            "Looking in indexes: https://pypi.org/simple, https://us-python.pkg.dev/colab-wheels/public/simple/\n",
            "Requirement already satisfied: pyspark in /usr/local/lib/python3.8/dist-packages (3.3.2)\n",
            "Requirement already satisfied: py4j==0.10.9.5 in /usr/local/lib/python3.8/dist-packages (from pyspark) (0.10.9.5)\n"
          ]
        }
      ],
      "source": [
        "!pip install pyspark"
      ]
    },
    {
      "cell_type": "code",
      "source": [
        "from pyspark.sql import SparkSession\n",
        "from pyspark.sql.functions import *"
      ],
      "metadata": {
        "id": "KdlLGRi8oYsM"
      },
      "execution_count": null,
      "outputs": []
    },
    {
      "cell_type": "code",
      "source": [
        "spark = SparkSession.builder.appName('prac04').getOrCreate()\n",
        "spark"
      ],
      "metadata": {
        "colab": {
          "base_uri": "https://localhost:8080/",
          "height": 219
        },
        "id": "taYTjnc8oYuY",
        "outputId": "e0544416-337e-4873-b9e8-7e5ca7a368a9"
      },
      "execution_count": null,
      "outputs": [
        {
          "output_type": "execute_result",
          "data": {
            "text/plain": [
              "<pyspark.sql.session.SparkSession at 0x7ff0045dddc0>"
            ],
            "text/html": [
              "\n",
              "            <div>\n",
              "                <p><b>SparkSession - in-memory</b></p>\n",
              "                \n",
              "        <div>\n",
              "            <p><b>SparkContext</b></p>\n",
              "\n",
              "            <p><a href=\"http://a9f5b0327739:4040\">Spark UI</a></p>\n",
              "\n",
              "            <dl>\n",
              "              <dt>Version</dt>\n",
              "                <dd><code>v3.3.2</code></dd>\n",
              "              <dt>Master</dt>\n",
              "                <dd><code>local[*]</code></dd>\n",
              "              <dt>AppName</dt>\n",
              "                <dd><code>prac04</code></dd>\n",
              "            </dl>\n",
              "        </div>\n",
              "        \n",
              "            </div>\n",
              "        "
            ]
          },
          "metadata": {},
          "execution_count": 39
        }
      ]
    },
    {
      "cell_type": "code",
      "source": [
        "# Read the CSV file into an RDD\n",
        "rdd = spark.sparkContext.textFile(\"/content/drive/MyDrive/Colab Notebooks/spark/bankmarketdata.csv\")\n",
        "\n",
        "# Remove the header line\n",
        "header = rdd.first()\n",
        "data_rdd = rdd.filter(lambda line: line != header)\n",
        "data_rdd.take(2)"
      ],
      "metadata": {
        "colab": {
          "base_uri": "https://localhost:8080/"
        },
        "id": "0yU9G8BNoYwR",
        "outputId": "25b3b89d-f835-42bd-f9f3-e6807a8784ab"
      },
      "execution_count": null,
      "outputs": [
        {
          "output_type": "execute_result",
          "data": {
            "text/plain": [
              "['58;\"management\";\"married\";\"tertiary\";\"no\";2143;\"yes\";\"no\";\"unknown\";5;\"may\";261;1;-1;0;\"unknown\";\"no\"',\n",
              " '44;\"technician\";\"single\";\"secondary\";\"no\";29;\"yes\";\"no\";\"unknown\";5;\"may\";151;1;-1;0;\"unknown\";\"no\"']"
            ]
          },
          "metadata": {},
          "execution_count": 40
        }
      ]
    },
    {
      "cell_type": "markdown",
      "source": [
        "### 2.\tGive marketing success rate. (No. of people subscribed / total no. of entries)"
      ],
      "metadata": {
        "id": "rw2cvbO3pd8S"
      }
    },
    {
      "cell_type": "code",
      "source": [
        "total_cnt = data_rdd.map(lambda line: line.strip(';')).count()\n",
        "total_cnt"
      ],
      "metadata": {
        "colab": {
          "base_uri": "https://localhost:8080/"
        },
        "id": "z8qCPaudoYyM",
        "outputId": "9c8d12f0-a70e-4808-e7f1-6efa8f6806d0"
      },
      "execution_count": null,
      "outputs": [
        {
          "output_type": "execute_result",
          "data": {
            "text/plain": [
              "45211"
            ]
          },
          "metadata": {},
          "execution_count": 41
        }
      ]
    },
    {
      "cell_type": "code",
      "source": [
        "yes_cnt = data_rdd.map(lambda line: line.split(';')[-1]).filter(lambda y: y == '\"yes\"').count()\n",
        "yes_cnt"
      ],
      "metadata": {
        "colab": {
          "base_uri": "https://localhost:8080/"
        },
        "id": "ZYesEdT8oY0O",
        "outputId": "fce5d6d3-268f-4426-e805-69fa8bb63e85"
      },
      "execution_count": null,
      "outputs": [
        {
          "output_type": "execute_result",
          "data": {
            "text/plain": [
              "5289"
            ]
          },
          "metadata": {},
          "execution_count": 42
        }
      ]
    },
    {
      "cell_type": "code",
      "source": [
        "success_ratio = (yes_cnt)/(total_cnt) * 100\n",
        "success_ratio"
      ],
      "metadata": {
        "colab": {
          "base_uri": "https://localhost:8080/"
        },
        "id": "gCu3gR2toY2M",
        "outputId": "8f53331e-10d8-4fe3-af95-fc630a44e56e"
      },
      "execution_count": null,
      "outputs": [
        {
          "output_type": "execute_result",
          "data": {
            "text/plain": [
              "11.698480458295547"
            ]
          },
          "metadata": {},
          "execution_count": 43
        }
      ]
    },
    {
      "cell_type": "markdown",
      "source": [
        "### 3.\tGive marketing failure rate"
      ],
      "metadata": {
        "id": "KtU2HJpbwUEl"
      }
    },
    {
      "cell_type": "code",
      "source": [
        "failure_rate = 100 - success_ratio\n",
        "failure_rate"
      ],
      "metadata": {
        "colab": {
          "base_uri": "https://localhost:8080/"
        },
        "id": "zgl2VDytoY4O",
        "outputId": "a7de4035-1c54-4076-aa17-ee4ff0f48e7d"
      },
      "execution_count": null,
      "outputs": [
        {
          "output_type": "execute_result",
          "data": {
            "text/plain": [
              "88.30151954170445"
            ]
          },
          "metadata": {},
          "execution_count": 44
        }
      ]
    },
    {
      "cell_type": "markdown",
      "source": [
        "### 4.\tMaximum, Mean, and Minimum age of the average targeted customer"
      ],
      "metadata": {
        "id": "DILIm-QVwhX6"
      }
    },
    {
      "cell_type": "code",
      "source": [
        "rdd_mma = data_rdd.map(lambda line: float(line.split(';')[0]))\n",
        "print( '(max min avg): ',rdd_mma.max(), rdd_mma.min(), rdd_mma.mean())"
      ],
      "metadata": {
        "colab": {
          "base_uri": "https://localhost:8080/"
        },
        "id": "JZMJPNyioY6P",
        "outputId": "a848ee93-57be-47eb-8543-9f6d086ccbe4"
      },
      "execution_count": null,
      "outputs": [
        {
          "output_type": "stream",
          "name": "stdout",
          "text": [
            "(max min avg):  95.0 18.0 40.93621021432841\n"
          ]
        }
      ]
    },
    {
      "cell_type": "markdown",
      "source": [
        "### 5.\tCheck the quality of customers by checking the average balance, median balance of customers"
      ],
      "metadata": {
        "id": "fhxvAGR4zYBD"
      }
    },
    {
      "cell_type": "code",
      "source": [],
      "metadata": {
        "id": "mcy4vAIDoY8S"
      },
      "execution_count": null,
      "outputs": []
    },
    {
      "cell_type": "markdown",
      "source": [
        "### 6.\tCheck if age matters in marketing subscription for deposit"
      ],
      "metadata": {
        "id": "wYS85d_51Vmz"
      }
    },
    {
      "cell_type": "code",
      "source": [
        "#rdd_am = \n",
        "# data_rdd.map(lambda line: line.split(';')).map(lambda x: (float(x[0]), x[-1])).groupBy(lambda x: x[0]).take(3)\n",
        "\n",
        "# data_rdd.map(lambda line: line.split(';')).map(lambda x: (float(x[0]), x[-1])).map(lambda x: (x[0], 1 if x[1] == '\"yes\"' else 0)).reduceByKey(lambda a, b: a + b).collect()\n",
        "\n",
        "grp_rdd = data_rdd.map(lambda line: line.split(';'))\\\n",
        "        .map(lambda x: (float(x[0]), x[-1]))\\\n",
        "        .groupBy(lambda x: x[0])\n",
        "grp_rdd.collect()\n",
        "        \n",
        "# grp_rdd.map(lambda x: (x[0], sum(1 for i in x[1] if i == '\"no\"'), len(x[1]))).collect()"
      ],
      "metadata": {
        "colab": {
          "base_uri": "https://localhost:8080/"
        },
        "id": "cbry-CyxoY-B",
        "outputId": "1820f9f5-e2f2-418e-d615-74311d676b2b"
      },
      "execution_count": null,
      "outputs": [
        {
          "output_type": "execute_result",
          "data": {
            "text/plain": [
              "[(58.0, <pyspark.resultiterable.ResultIterable at 0x7ff00456b430>),\n",
              " (44.0, <pyspark.resultiterable.ResultIterable at 0x7fefe6141e20>),\n",
              " (28.0, <pyspark.resultiterable.ResultIterable at 0x7fefe6141bb0>),\n",
              " (42.0, <pyspark.resultiterable.ResultIterable at 0x7fefe61f1b50>),\n",
              " (60.0, <pyspark.resultiterable.ResultIterable at 0x7fefe61f1e20>),\n",
              " (56.0, <pyspark.resultiterable.ResultIterable at 0x7fefe61f1970>),\n",
              " (32.0, <pyspark.resultiterable.ResultIterable at 0x7fefe61f1ca0>),\n",
              " (40.0, <pyspark.resultiterable.ResultIterable at 0x7fefe5a66910>),\n",
              " (52.0, <pyspark.resultiterable.ResultIterable at 0x7fefe5a66e50>),\n",
              " (46.0, <pyspark.resultiterable.ResultIterable at 0x7fefe5a66430>),\n",
              " (36.0, <pyspark.resultiterable.ResultIterable at 0x7fefe5a66dc0>),\n",
              " (50.0, <pyspark.resultiterable.ResultIterable at 0x7fefe5a66190>),\n",
              " (54.0, <pyspark.resultiterable.ResultIterable at 0x7fefe5a667f0>),\n",
              " (48.0, <pyspark.resultiterable.ResultIterable at 0x7fefe5a668b0>),\n",
              " (24.0, <pyspark.resultiterable.ResultIterable at 0x7fefe5a66b20>),\n",
              " (38.0, <pyspark.resultiterable.ResultIterable at 0x7fefe5a66280>),\n",
              " (30.0, <pyspark.resultiterable.ResultIterable at 0x7fefe5a66940>),\n",
              " (34.0, <pyspark.resultiterable.ResultIterable at 0x7fefe5a66d90>),\n",
              " (26.0, <pyspark.resultiterable.ResultIterable at 0x7fefe5a66220>),\n",
              " (22.0, <pyspark.resultiterable.ResultIterable at 0x7fefe5a66af0>),\n",
              " (20.0, <pyspark.resultiterable.ResultIterable at 0x7fefe5a66820>),\n",
              " (66.0, <pyspark.resultiterable.ResultIterable at 0x7fefe6fb9eb0>),\n",
              " (62.0, <pyspark.resultiterable.ResultIterable at 0x7fefe6fb97c0>),\n",
              " (70.0, <pyspark.resultiterable.ResultIterable at 0x7fefe6fb93a0>),\n",
              " (68.0, <pyspark.resultiterable.ResultIterable at 0x7fefe6fb9850>),\n",
              " (64.0, <pyspark.resultiterable.ResultIterable at 0x7fefe6fb95b0>),\n",
              " (72.0, <pyspark.resultiterable.ResultIterable at 0x7fefe6fb9790>),\n",
              " (76.0, <pyspark.resultiterable.ResultIterable at 0x7fefe6fb90a0>),\n",
              " (90.0, <pyspark.resultiterable.ResultIterable at 0x7fefe6141160>),\n",
              " (82.0, <pyspark.resultiterable.ResultIterable at 0x7fefe6141970>),\n",
              " (74.0, <pyspark.resultiterable.ResultIterable at 0x7fefe61414c0>),\n",
              " (78.0, <pyspark.resultiterable.ResultIterable at 0x7fefe61412b0>),\n",
              " (80.0, <pyspark.resultiterable.ResultIterable at 0x7fefe61412e0>),\n",
              " (94.0, <pyspark.resultiterable.ResultIterable at 0x7fefe6141910>),\n",
              " (86.0, <pyspark.resultiterable.ResultIterable at 0x7fefe6141520>),\n",
              " (18.0, <pyspark.resultiterable.ResultIterable at 0x7fefe5a565b0>),\n",
              " (84.0, <pyspark.resultiterable.ResultIterable at 0x7fefe5a56850>),\n",
              " (92.0, <pyspark.resultiterable.ResultIterable at 0x7fefe5a562e0>),\n",
              " (88.0, <pyspark.resultiterable.ResultIterable at 0x7fefe5a56f40>),\n",
              " (33.0, <pyspark.resultiterable.ResultIterable at 0x7fefe5a56c70>),\n",
              " (47.0, <pyspark.resultiterable.ResultIterable at 0x7fefe5a569a0>),\n",
              " (35.0, <pyspark.resultiterable.ResultIterable at 0x7fefe5a56130>),\n",
              " (43.0, <pyspark.resultiterable.ResultIterable at 0x7fefe5a56280>),\n",
              " (41.0, <pyspark.resultiterable.ResultIterable at 0x7fefe5a56fd0>),\n",
              " (29.0, <pyspark.resultiterable.ResultIterable at 0x7fefe5a56ac0>),\n",
              " (53.0, <pyspark.resultiterable.ResultIterable at 0x7fefe5a56220>),\n",
              " (57.0, <pyspark.resultiterable.ResultIterable at 0x7fefe5a560d0>),\n",
              " (51.0, <pyspark.resultiterable.ResultIterable at 0x7ff0045f4820>),\n",
              " (45.0, <pyspark.resultiterable.ResultIterable at 0x7ff0045f4880>),\n",
              " (25.0, <pyspark.resultiterable.ResultIterable at 0x7fefe5a4d3d0>),\n",
              " (39.0, <pyspark.resultiterable.ResultIterable at 0x7fefe5a4d8e0>),\n",
              " (49.0, <pyspark.resultiterable.ResultIterable at 0x7fefe5a4dac0>),\n",
              " (59.0, <pyspark.resultiterable.ResultIterable at 0x7fefe5a4dfd0>),\n",
              " (37.0, <pyspark.resultiterable.ResultIterable at 0x7fefe5a4d850>),\n",
              " (55.0, <pyspark.resultiterable.ResultIterable at 0x7fefe5a4d580>),\n",
              " (31.0, <pyspark.resultiterable.ResultIterable at 0x7fefe5a4da30>),\n",
              " (27.0, <pyspark.resultiterable.ResultIterable at 0x7fefe5a4d760>),\n",
              " (23.0, <pyspark.resultiterable.ResultIterable at 0x7fefe5a4d460>),\n",
              " (61.0, <pyspark.resultiterable.ResultIterable at 0x7fefe5a4d4c0>),\n",
              " (21.0, <pyspark.resultiterable.ResultIterable at 0x7fefe5a4d310>),\n",
              " (83.0, <pyspark.resultiterable.ResultIterable at 0x7fefe5a4d700>),\n",
              " (75.0, <pyspark.resultiterable.ResultIterable at 0x7fefe5a4d910>),\n",
              " (67.0, <pyspark.resultiterable.ResultIterable at 0x7fefe5a4d6d0>),\n",
              " (65.0, <pyspark.resultiterable.ResultIterable at 0x7fefe5a4de80>),\n",
              " (69.0, <pyspark.resultiterable.ResultIterable at 0x7fefe5a4db80>),\n",
              " (71.0, <pyspark.resultiterable.ResultIterable at 0x7fefe5a75e50>),\n",
              " (19.0, <pyspark.resultiterable.ResultIterable at 0x7fefe5a75670>),\n",
              " (85.0, <pyspark.resultiterable.ResultIterable at 0x7fefe5a755e0>),\n",
              " (63.0, <pyspark.resultiterable.ResultIterable at 0x7fefe5a75cd0>),\n",
              " (73.0, <pyspark.resultiterable.ResultIterable at 0x7fefe5a75310>),\n",
              " (79.0, <pyspark.resultiterable.ResultIterable at 0x7fefe5a75880>),\n",
              " (77.0, <pyspark.resultiterable.ResultIterable at 0x7fefe5a75910>),\n",
              " (95.0, <pyspark.resultiterable.ResultIterable at 0x7fefe5a75b20>),\n",
              " (81.0, <pyspark.resultiterable.ResultIterable at 0x7fefe5a753d0>),\n",
              " (89.0, <pyspark.resultiterable.ResultIterable at 0x7fefe5a75a60>),\n",
              " (87.0, <pyspark.resultiterable.ResultIterable at 0x7fefe5a75250>),\n",
              " (93.0, <pyspark.resultiterable.ResultIterable at 0x7fefe5a75a90>)]"
            ]
          },
          "metadata": {},
          "execution_count": 47
        }
      ]
    },
    {
      "cell_type": "code",
      "source": [],
      "metadata": {
        "id": "fOjqSYMyoY_9"
      },
      "execution_count": null,
      "outputs": []
    },
    {
      "cell_type": "code",
      "source": [],
      "metadata": {
        "id": "NXNLQxY8oZB0"
      },
      "execution_count": null,
      "outputs": []
    },
    {
      "cell_type": "code",
      "source": [],
      "metadata": {
        "id": "fsOOMmqMoZF2"
      },
      "execution_count": null,
      "outputs": []
    },
    {
      "cell_type": "code",
      "source": [],
      "metadata": {
        "id": "nYNZRoCJoZHv"
      },
      "execution_count": null,
      "outputs": []
    }
  ]
}