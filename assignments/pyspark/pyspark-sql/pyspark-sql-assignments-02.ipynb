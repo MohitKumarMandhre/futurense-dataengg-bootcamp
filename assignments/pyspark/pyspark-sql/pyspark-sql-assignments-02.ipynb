{
  "cells": [
    {
      "cell_type": "code",
      "execution_count": null,
      "metadata": {
        "colab": {
          "base_uri": "https://localhost:8080/",
          "height": 271
        },
        "id": "Z0cSl-zmuXb5",
        "outputId": "a0f0291c-6daf-47ad-d588-df82cddbe1b6"
      },
      "outputs": [
        {
          "name": "stdout",
          "output_type": "stream",
          "text": [
            "Looking in indexes: https://pypi.org/simple, https://us-python.pkg.dev/colab-wheels/public/simple/\n",
            "Requirement already satisfied: pyspark in /usr/local/lib/python3.8/dist-packages (3.3.2)\n",
            "Requirement already satisfied: py4j==0.10.9.5 in /usr/local/lib/python3.8/dist-packages (from pyspark) (0.10.9.5)\n"
          ]
        },
        {
          "data": {
            "text/html": [
              "\n",
              "            <div>\n",
              "                <p><b>SparkSession - in-memory</b></p>\n",
              "                \n",
              "        <div>\n",
              "            <p><b>SparkContext</b></p>\n",
              "\n",
              "            <p><a href=\"http://86e6cb43c8f0:4040\">Spark UI</a></p>\n",
              "\n",
              "            <dl>\n",
              "              <dt>Version</dt>\n",
              "                <dd><code>v3.3.2</code></dd>\n",
              "              <dt>Master</dt>\n",
              "                <dd><code>local[*]</code></dd>\n",
              "              <dt>AppName</dt>\n",
              "                <dd><code>prac04</code></dd>\n",
              "            </dl>\n",
              "        </div>\n",
              "        \n",
              "            </div>\n",
              "        "
            ],
            "text/plain": [
              "<pyspark.sql.session.SparkSession at 0x7f64841ff9d0>"
            ]
          },
          "execution_count": 10,
          "metadata": {},
          "output_type": "execute_result"
        }
      ],
      "source": [
        "!pip install pyspark\n",
        "\n",
        "from pyspark.sql import SparkSession\n",
        "from pyspark.sql.functions import *\n",
        "\n",
        "spark = SparkSession.builder.appName('prac05').getOrCreate()\n",
        "spark"
      ]
    },
    {
      "cell_type": "code",
      "execution_count": null,
      "metadata": {
        "colab": {
          "base_uri": "https://localhost:8080/"
        },
        "id": "bwv_GoriuY4m",
        "outputId": "e9e73253-0698-4fbc-8dc6-0e525dbf6b76"
      },
      "outputs": [
        {
          "name": "stdout",
          "output_type": "stream",
          "text": [
            "root\n",
            " |-- age: integer (nullable = true)\n",
            " |-- job: string (nullable = true)\n",
            " |-- marital: string (nullable = true)\n",
            " |-- education: string (nullable = true)\n",
            " |-- default: string (nullable = true)\n",
            " |-- balance: integer (nullable = true)\n",
            " |-- housing: string (nullable = true)\n",
            " |-- loan: string (nullable = true)\n",
            " |-- contact: string (nullable = true)\n",
            " |-- day: integer (nullable = true)\n",
            " |-- month: string (nullable = true)\n",
            " |-- duration: integer (nullable = true)\n",
            " |-- campaign: integer (nullable = true)\n",
            " |-- pdays: integer (nullable = true)\n",
            " |-- previous: integer (nullable = true)\n",
            " |-- poutcome: string (nullable = true)\n",
            " |-- y: string (nullable = true)\n",
            "\n",
            "+---+------------+-------+---------+-------+-------+-------+----+-------+---+-----+--------+--------+-----+--------+--------+---+\n",
            "|age|         job|marital|education|default|balance|housing|loan|contact|day|month|duration|campaign|pdays|previous|poutcome|  y|\n",
            "+---+------------+-------+---------+-------+-------+-------+----+-------+---+-----+--------+--------+-----+--------+--------+---+\n",
            "| 58|  management|married| tertiary|     no|   2143|    yes|  no|unknown|  5|  may|     261|       1|   -1|       0| unknown| no|\n",
            "| 44|  technician| single|secondary|     no|     29|    yes|  no|unknown|  5|  may|     151|       1|   -1|       0| unknown| no|\n",
            "| 33|entrepreneur|married|secondary|     no|      2|    yes| yes|unknown|  5|  may|      76|       1|   -1|       0| unknown| no|\n",
            "| 47| blue-collar|married|  unknown|     no|   1506|    yes|  no|unknown|  5|  may|      92|       1|   -1|       0| unknown| no|\n",
            "| 33|     unknown| single|  unknown|     no|      1|     no|  no|unknown|  5|  may|     198|       1|   -1|       0| unknown| no|\n",
            "+---+------------+-------+---------+-------+-------+-------+----+-------+---+-----+--------+--------+-----+--------+--------+---+\n",
            "only showing top 5 rows\n",
            "\n"
          ]
        }
      ],
      "source": [
        "# Read the CSV file into an RDD\n",
        "df_b = spark.read.option(\"delimiter\", \";\").option(\"header\", True).option('inferSchema', True).csv(\"/content/drive/MyDrive/Colab Notebooks/spark/bankmarketdata.csv\")\n",
        "\n",
        "df_b.printSchema()\n",
        "\n",
        "df_b.show(5)"
      ]
    },
    {
      "cell_type": "code",
      "execution_count": null,
      "metadata": {
        "colab": {
          "base_uri": "https://localhost:8080/"
        },
        "id": "18-zFEOMwNq6",
        "outputId": "d819a2c0-867d-481c-d18d-94c94694a73c"
      },
      "outputs": [
        {
          "name": "stderr",
          "output_type": "stream",
          "text": [
            "/usr/local/lib/python3.8/dist-packages/pyspark/sql/dataframe.py:229: FutureWarning: Deprecated in 2.0, use createOrReplaceTempView instead.\n",
            "  warnings.warn(\"Deprecated in 2.0, use createOrReplaceTempView instead.\", FutureWarning)\n"
          ]
        }
      ],
      "source": [
        "df_b.registerTempTable(\"bankings\")"
      ]
    },
    {
      "cell_type": "markdown",
      "metadata": {
        "id": "Oc6eUZOIu4Sa"
      },
      "source": [
        "### 2.\tGive marketing success rate. (No. of people subscribed / total no. of entries)"
      ]
    },
    {
      "cell_type": "code",
      "execution_count": null,
      "metadata": {
        "colab": {
          "base_uri": "https://localhost:8080/"
        },
        "id": "VAgRvlkIuY7N",
        "outputId": "19aafb4e-14e6-45ef-9acc-7458fde47b7d"
      },
      "outputs": [
        {
          "name": "stdout",
          "output_type": "stream",
          "text": [
            "+--------------+-----------+---------+\n",
            "|no_of_deposits|tot_no_cust|succ_rate|\n",
            "+--------------+-----------+---------+\n",
            "|          5289|      45211|     11.7|\n",
            "+--------------+-----------+---------+\n",
            "\n"
          ]
        }
      ],
      "source": [
        "q = '''\n",
        "Select COUNT(IF(y = 'yes', 1, NULL)) as no_of_deposits,\n",
        "count(*) as tot_no_cust,\n",
        "round( (COUNT(IF(y = 'yes', 1, NULL)) / count(*)) * 100, 2) as succ_rate\n",
        "From bankings\n",
        "'''\n",
        "\n",
        "spark.sql(q).show()"
      ]
    },
    {
      "cell_type": "markdown",
      "metadata": {
        "id": "eHkWsZ5LwZTP"
      },
      "source": [
        "### 3.\tGive marketing failure rate"
      ]
    },
    {
      "cell_type": "code",
      "execution_count": null,
      "metadata": {
        "colab": {
          "base_uri": "https://localhost:8080/"
        },
        "id": "LZQEyyvjuY9L",
        "outputId": "816a15da-da4e-4e92-d936-3e060985389f"
      },
      "outputs": [
        {
          "name": "stdout",
          "output_type": "stream",
          "text": [
            "+--------------+-----------+---------+------------+\n",
            "|no_of_deposits|tot_no_cust|succ_rate|failure_rate|\n",
            "+--------------+-----------+---------+------------+\n",
            "|          5289|      45211|     11.7|        88.3|\n",
            "+--------------+-----------+---------+------------+\n",
            "\n"
          ]
        }
      ],
      "source": [
        "q = '''\n",
        "Select COUNT(IF(y = 'yes', 1, NULL)) as no_of_deposits,\n",
        "count(*) as tot_no_cust,\n",
        "round( (COUNT(IF(y = 'yes', 1, NULL)) / count(*)) * 100, 2) as succ_rate,\n",
        "100 - round( (COUNT(IF(y = 'yes', 1, NULL)) / count(*)) * 100, 2) as failure_rate\n",
        "From bankings\n",
        "'''\n",
        "\n",
        "spark.sql(q).show()"
      ]
    },
    {
      "cell_type": "markdown",
      "metadata": {
        "id": "2lE7fAhwwios"
      },
      "source": [
        "### 4.\tMaximum, Mean, and Minimum age of the average targeted customer"
      ]
    },
    {
      "cell_type": "code",
      "execution_count": null,
      "metadata": {
        "colab": {
          "base_uri": "https://localhost:8080/"
        },
        "id": "HPUqRBLfuY_R",
        "outputId": "36cc07ad-1724-4ee5-f156-ba699d662b7c"
      },
      "outputs": [
        {
          "name": "stdout",
          "output_type": "stream",
          "text": [
            "+-------+-------+-------+\n",
            "|max_age|min_age|avg_age|\n",
            "+-------+-------+-------+\n",
            "|     95|     18|  40.94|\n",
            "+-------+-------+-------+\n",
            "\n"
          ]
        }
      ],
      "source": [
        "q = '''\n",
        "select max(age) as max_age, min(age) as min_age, \n",
        "round( avg(age), 2) as avg_age\n",
        "from bankings\n",
        "'''\n",
        "\n",
        "spark.sql(q).show()"
      ]
    },
    {
      "cell_type": "markdown",
      "metadata": {
        "id": "SCwYcKFQwqXz"
      },
      "source": [
        "### 5.\tCheck the quality of customers by checking the average balance, median balance of customers"
      ]
    },
    {
      "cell_type": "code",
      "execution_count": null,
      "metadata": {
        "colab": {
          "base_uri": "https://localhost:8080/"
        },
        "id": "KAAKvpROuZBQ",
        "outputId": "70388122-2d47-4fc6-943d-99c86be0cd8e"
      },
      "outputs": [
        {
          "name": "stdout",
          "output_type": "stream",
          "text": [
            "+-------+----------+\n",
            "|avg_age|median_age|\n",
            "+-------+----------+\n",
            "|1362.27|     448.0|\n",
            "+-------+----------+\n",
            "\n"
          ]
        }
      ],
      "source": [
        "q = '''\n",
        "Select round( avg(balance), 2) as avg_age,\n",
        "round( percentile(balance, 0.5), 2) as median_age\n",
        "From bankings\n",
        "'''\n",
        "\n",
        "spark.sql(q).show()"
      ]
    },
    {
      "cell_type": "markdown",
      "metadata": {
        "id": "32r0RVVFw0Jd"
      },
      "source": [
        "### 6.\tCheck if age matters in marketing subscription for deposit"
      ]
    },
    {
      "cell_type": "code",
      "execution_count": null,
      "metadata": {
        "colab": {
          "base_uri": "https://localhost:8080/"
        },
        "id": "Cz32vAAguZDO",
        "outputId": "579e6c55-e5f2-4207-9fd7-7c2f6b912f43"
      },
      "outputs": [
        {
          "name": "stdout",
          "output_type": "stream",
          "text": [
            "+---+--------------+-----------+---------+\n",
            "|age|no_of_deposits|tot_no_cust|succ_rate|\n",
            "+---+--------------+-----------+---------+\n",
            "| 31|           206|       1996|    10.32|\n",
            "| 85|             4|          5|     80.0|\n",
            "| 65|            21|         59|    35.59|\n",
            "| 53|            85|        891|     9.54|\n",
            "| 78|            14|         30|    46.67|\n",
            "| 34|           198|       1930|    10.26|\n",
            "| 81|             6|         17|    35.29|\n",
            "| 28|           162|       1038|    15.61|\n",
            "| 76|            16|         32|     50.0|\n",
            "| 27|           141|        909|    15.51|\n",
            "| 26|           134|        805|    16.65|\n",
            "| 44|            93|       1136|     8.19|\n",
            "| 22|            40|        129|    31.01|\n",
            "| 47|           113|       1088|    10.39|\n",
            "| 52|            85|        911|     9.33|\n",
            "| 86|             4|          9|    44.44|\n",
            "| 40|           116|       1355|     8.56|\n",
            "| 20|            15|         50|     30.0|\n",
            "| 94|             0|          1|      0.0|\n",
            "| 57|            78|        828|     9.42|\n",
            "+---+--------------+-----------+---------+\n",
            "only showing top 20 rows\n",
            "\n"
          ]
        }
      ],
      "source": [
        "q = '''\n",
        "Select age, COUNT(IF(y = 'yes', 1, NULL)) as no_of_deposits,\n",
        "count(*) as tot_no_cust,\n",
        "round( (COUNT(IF(y = 'yes', 1, NULL)) / count(*)) * 100, 2) as succ_rate\n",
        "From bankings\n",
        "group by age\n",
        "'''\n",
        "\n",
        "spark.sql(q).show()"
      ]
    },
    {
      "cell_type": "code",
      "execution_count": null,
      "metadata": {
        "colab": {
          "base_uri": "https://localhost:8080/"
        },
        "id": "YN2SYPLDw_5r",
        "outputId": "82cef6a2-44ab-43bd-e856-b7fbe402c009"
      },
      "outputs": [
        {
          "name": "stdout",
          "output_type": "stream",
          "text": [
            "+---------+--------------+-----------+---------+\n",
            "|age_range|no_of_deposits|tot_no_cust|succ_rate|\n",
            "+---------+--------------+-----------+---------+\n",
            "|     null|            15|         50|     30.0|\n",
            "|  Over 60|           502|       1188|    42.26|\n",
            "|    21-30|          1112|       6933|    16.04|\n",
            "| Under 20|            18|         47|     38.3|\n",
            "|    41-50|          1019|      11239|     9.07|\n",
            "|    31-40|          1812|      17687|    10.24|\n",
            "|    51-60|           811|       8067|    10.05|\n",
            "+---------+--------------+-----------+---------+\n",
            "\n"
          ]
        }
      ],
      "source": [
        "q = '''\n",
        "select \n",
        "case\n",
        "   when age < 20 then 'Under 20'\n",
        "   when age between 21 and 30 then '21-30'\n",
        "   when age between 31 and 40 then '31-40'\n",
        "   when age between 41 and 50 then '41-50'\n",
        "   when age between 51 and 60 then '51-60'\n",
        "   when age > 60 then 'Over 60'\n",
        " END as age_range,\n",
        "COUNT(IF(y = 'yes', 1, NULL)) as no_of_deposits,\n",
        "count(*) as tot_no_cust,\n",
        "round( (COUNT(IF(y = 'yes', 1, NULL)) / count(*)) * 100, 2) as succ_rate\n",
        " from bankings\n",
        " group by age_range\n",
        "'''\n",
        "\n",
        "spark.sql(q).show()"
      ]
    },
    {
      "cell_type": "markdown",
      "metadata": {
        "id": "_JqbvKX3xJNY"
      },
      "source": [
        "### 7.\tCheck if marital status mattered for subscription to deposit."
      ]
    },
    {
      "cell_type": "code",
      "execution_count": null,
      "metadata": {
        "colab": {
          "base_uri": "https://localhost:8080/"
        },
        "id": "frN4M9o8w_78",
        "outputId": "df768fc8-052e-4d98-fabf-58e0797231d7"
      },
      "outputs": [
        {
          "name": "stdout",
          "output_type": "stream",
          "text": [
            "+--------+--------------+-----------+---------+\n",
            "| marital|no_of_deposits|tot_no_cust|succ_rate|\n",
            "+--------+--------------+-----------+---------+\n",
            "|divorced|           622|       5207|    11.95|\n",
            "| married|          2755|      27214|    10.12|\n",
            "|  single|          1912|      12790|    14.95|\n",
            "+--------+--------------+-----------+---------+\n",
            "\n"
          ]
        }
      ],
      "source": [
        "q = '''\n",
        "Select marital, COUNT(IF(y = 'yes', 1, NULL)) as no_of_deposits,\n",
        "count(*) as tot_no_cust,\n",
        "round( (COUNT(IF(y = 'yes', 1, NULL)) / count(*)) * 100, 2) as succ_rate\n",
        "From bankings\n",
        "group by marital\n",
        "'''\n",
        "\n",
        "spark.sql(q).show()"
      ]
    },
    {
      "cell_type": "code",
      "execution_count": null,
      "metadata": {
        "colab": {
          "base_uri": "https://localhost:8080/"
        },
        "id": "K42usfAgw_93",
        "outputId": "cc7a8cba-c61e-4c22-c426-325e42e6d868"
      },
      "outputs": [
        {
          "name": "stdout",
          "output_type": "stream",
          "text": [
            "+---------+--------+--------------+-----------+---------+\n",
            "|age_range| marital|no_of_deposits|tot_no_cust|succ_rate|\n",
            "+---------+--------+--------------+-----------+---------+\n",
            "|    21-30|divorced|            18|        170|    10.59|\n",
            "|    41-50|divorced|           174|       1738|    10.01|\n",
            "|  Over 60|divorced|            97|        199|    48.74|\n",
            "|    31-40|divorced|           163|       1600|    10.19|\n",
            "|    31-40| married|           927|      10114|     9.17|\n",
            "|    31-40|  single|           722|       5973|    12.09|\n",
            "|     null| married|             1|          3|    33.33|\n",
            "|    51-60|divorced|           170|       1500|    11.33|\n",
            "|    51-60| married|           588|       6072|     9.68|\n",
            "|    51-60|  single|            53|        495|    10.71|\n",
            "|  Over 60| married|           396|        955|    41.47|\n",
            "| Under 20|  single|            18|         47|     38.3|\n",
            "|     null|  single|            14|         47|    29.79|\n",
            "|    21-30|  single|           913|       4705|     19.4|\n",
            "|    21-30| married|           181|       2058|     8.79|\n",
            "|    41-50| married|           662|       8012|     8.26|\n",
            "|  Over 60|  single|             9|         34|    26.47|\n",
            "|    41-50|  single|           183|       1489|    12.29|\n",
            "+---------+--------+--------------+-----------+---------+\n",
            "\n"
          ]
        }
      ],
      "source": [
        "q = '''\n",
        "select \n",
        "case\n",
        "   when age < 20 then 'Under 20'\n",
        "   when age between 21 and 30 then '21-30'\n",
        "   when age between 31 and 40 then '31-40'\n",
        "   when age between 41 and 50 then '41-50'\n",
        "   when age between 51 and 60 then '51-60'\n",
        "   when age > 60 then 'Over 60'\n",
        " END as age_range,marital,\n",
        "COUNT(IF(y = 'yes', 1, NULL)) as no_of_deposits,\n",
        "count(*) as tot_no_cust,\n",
        "round( (COUNT(IF(y = 'yes', 1, NULL)) / count(*)) * 100, 2) as succ_rate\n",
        " from bankings\n",
        " group by age_range, marital\n",
        "'''\n",
        "\n",
        "spark.sql(q).show()"
      ]
    },
    {
      "cell_type": "markdown",
      "metadata": {
        "id": "3vTIJnRnxbhU"
      },
      "source": [
        "### 8.\tCheck if age and marital status together mattered for subscription to deposit scheme"
      ]
    },
    {
      "cell_type": "code",
      "execution_count": null,
      "metadata": {
        "colab": {
          "base_uri": "https://localhost:8080/"
        },
        "id": "RdUg7pklw__z",
        "outputId": "6d73df68-ffd3-46a1-945c-e1e1fa48bbcd"
      },
      "outputs": [
        {
          "name": "stdout",
          "output_type": "stream",
          "text": [
            "+---+--------+--------------+-----------+---------+\n",
            "|age| marital|no_of_deposits|tot_no_cust|succ_rate|\n",
            "+---+--------+--------------+-----------+---------+\n",
            "| 42|  single|            22|        218|    10.09|\n",
            "| 55|  single|             0|         54|      0.0|\n",
            "| 66| married|            22|         53|    41.51|\n",
            "| 68|  single|             2|          4|     50.0|\n",
            "| 28| married|            20|        325|     6.15|\n",
            "| 59| married|            66|        583|    11.32|\n",
            "| 61| married|            47|        123|    38.21|\n",
            "| 21|  single|            21|         74|    28.38|\n",
            "| 29|  single|           133|        683|    19.47|\n",
            "| 70|divorced|             5|         13|    38.46|\n",
            "| 56|  single|             6|         45|    13.33|\n",
            "| 74| married|            11|         32|    34.38|\n",
            "| 64|divorced|             4|          9|    44.44|\n",
            "| 40|  single|            31|        257|    12.06|\n",
            "| 45|  single|            14|        146|     9.59|\n",
            "| 83|  single|             1|          2|     50.0|\n",
            "| 69| married|            13|         34|    38.24|\n",
            "| 77| married|            19|         38|     50.0|\n",
            "| 57|divorced|            15|        148|    10.14|\n",
            "| 21| married|             1|          5|     20.0|\n",
            "+---+--------+--------------+-----------+---------+\n",
            "only showing top 20 rows\n",
            "\n"
          ]
        }
      ],
      "source": [
        "q = '''\n",
        "Select age, marital, COUNT(IF(y = 'yes', 1, NULL)) as no_of_deposits,\n",
        "count(*) as tot_no_cust,\n",
        "round( (COUNT(IF(y = 'yes', 1, NULL)) / count(*)) * 100, 2) as succ_rate\n",
        "From bankings\n",
        "group by age, marital\n",
        "'''\n",
        "\n",
        "spark.sql(q).show()"
      ]
    },
    {
      "cell_type": "code",
      "execution_count": null,
      "metadata": {
        "id": "0TPjvBY9xABu"
      },
      "outputs": [],
      "source": [
        "q = '''\n",
        "Select age, marital, COUNT(IF(y = 'yes', 1, NULL)) as no_of_deposits,\n",
        "count(*) as tot_no_cust,\n",
        "round( (COUNT(IF(y = 'yes', 1, NULL)) / count(*)) * 100, 2) as succ_rate\n",
        "From bankings\n",
        "group by age, marital\n",
        "'''\n",
        "\n",
        "spark.sql(q).show()"
      ]
    },
    {
      "cell_type": "code",
      "execution_count": null,
      "metadata": {
        "colab": {
          "base_uri": "https://localhost:8080/"
        },
        "id": "wcdGT1BHxADv",
        "outputId": "1dbbf978-c501-417b-a85a-1f9abee9337a"
      },
      "outputs": [
        {
          "name": "stdout",
          "output_type": "stream",
          "text": [
            "+------------+\n",
            "|success_rate|\n",
            "+------------+\n",
            "|        11.7|\n",
            "+------------+\n",
            "\n"
          ]
        }
      ],
      "source": [
        "q = '''\n",
        "select round( (sum(if(y='yes', 1, 0))/count(*) )*100,2) success_rate from bankings\n",
        "'''\n",
        "\n",
        "spark.sql(q).show()"
      ]
    },
    {
      "cell_type": "code",
      "execution_count": null,
      "metadata": {
        "colab": {
          "base_uri": "https://localhost:8080/"
        },
        "id": "jlfryekg3trV",
        "outputId": "ae4525cf-d432-4f1c-be5f-00689aa02d1a"
      },
      "outputs": [
        {
          "name": "stdout",
          "output_type": "stream",
          "text": [
            "root\n",
            " |-- age_range: string (nullable = true)\n",
            " |-- no_of_deposits: long (nullable = false)\n",
            " |-- tot_no_cust: long (nullable = false)\n",
            " |-- succ_rate: double (nullable = true)\n",
            "\n"
          ]
        }
      ],
      "source": [
        "df_agegrp = spark.sql(q)\n",
        "df_agegrp.printSchema()\n",
        "\n",
        "df_agegrp.write.csv(\"outputdf_agegrp\")"
      ]
    },
    {
      "cell_type": "code",
      "execution_count": null,
      "metadata": {
        "id": "3CC28vFJxAFz"
      },
      "outputs": [],
      "source": []
    },
    {
      "cell_type": "code",
      "execution_count": null,
      "metadata": {
        "id": "tMnhyCt2xAJW"
      },
      "outputs": [],
      "source": []
    },
    {
      "cell_type": "code",
      "execution_count": null,
      "metadata": {
        "id": "F8HZIEjEuZFb"
      },
      "outputs": [],
      "source": []
    },
    {
      "cell_type": "code",
      "execution_count": null,
      "metadata": {
        "id": "ikQEr7gyuZG-"
      },
      "outputs": [],
      "source": []
    }
  ],
  "metadata": {
    "colab": {
      "provenance": []
    },
    "kernelspec": {
      "display_name": "Python 3",
      "language": "python",
      "name": "python3"
    },
    "language_info": {
      "name": "python",
      "version": "3.11.2"
    },
    "vscode": {
      "interpreter": {
        "hash": "f1668e7969ea635b29a34483611cdf906e8f6d348a7b401cc404ea2568042050"
      }
    }
  },
  "nbformat": 4,
  "nbformat_minor": 0
}
