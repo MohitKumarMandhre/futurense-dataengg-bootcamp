{
  "nbformat": 4,
  "nbformat_minor": 0,
  "metadata": {
    "colab": {
      "provenance": []
    },
    "kernelspec": {
      "name": "python3",
      "display_name": "Python 3"
    },
    "language_info": {
      "name": "python"
    }
  },
  "cells": [
    {
      "cell_type": "code",
      "execution_count": 9,
      "metadata": {
        "colab": {
          "base_uri": "https://localhost:8080/",
          "height": 462
        },
        "id": "gRoMDMIDyWjo",
        "outputId": "91d4648b-fae5-45fc-b25d-3c3994f9612c"
      },
      "outputs": [
        {
          "output_type": "stream",
          "name": "stdout",
          "text": [
            "Looking in indexes: https://pypi.org/simple, https://us-python.pkg.dev/colab-wheels/public/simple/\n",
            "Requirement already satisfied: pyspark in /usr/local/lib/python3.8/dist-packages (3.3.2)\n",
            "Requirement already satisfied: py4j==0.10.9.5 in /usr/local/lib/python3.8/dist-packages (from pyspark) (0.10.9.5)\n",
            "Looking in indexes: https://pypi.org/simple, https://us-python.pkg.dev/colab-wheels/public/simple/\n",
            "Collecting datetime-month\n",
            "  Downloading datetime-month-1.0.4.tar.gz (16 kB)\n",
            "  Preparing metadata (setup.py) ... \u001b[?25l\u001b[?25hdone\n",
            "Building wheels for collected packages: datetime-month\n",
            "  Building wheel for datetime-month (setup.py) ... \u001b[?25l\u001b[?25hdone\n",
            "  Created wheel for datetime-month: filename=datetime_month-1.0.4-py2.py3-none-any.whl size=8032 sha256=81275a706d9c41ecec77b098bc2f9655039b340ecc0064486fba875b482272d8\n",
            "  Stored in directory: /root/.cache/pip/wheels/8b/d7/84/3580b0314aadcc5e2d3e922dac9e86f764e79ee225f0f4de88\n",
            "Successfully built datetime-month\n",
            "Installing collected packages: datetime-month\n",
            "Successfully installed datetime-month-1.0.4\n"
          ]
        },
        {
          "output_type": "execute_result",
          "data": {
            "text/plain": [
              "<pyspark.sql.session.SparkSession at 0x7fdcbc0f7a60>"
            ],
            "text/html": [
              "\n",
              "            <div>\n",
              "                <p><b>SparkSession - in-memory</b></p>\n",
              "                \n",
              "        <div>\n",
              "            <p><b>SparkContext</b></p>\n",
              "\n",
              "            <p><a href=\"http://82a7557c1a4f:4040\">Spark UI</a></p>\n",
              "\n",
              "            <dl>\n",
              "              <dt>Version</dt>\n",
              "                <dd><code>v3.3.2</code></dd>\n",
              "              <dt>Master</dt>\n",
              "                <dd><code>local[*]</code></dd>\n",
              "              <dt>AppName</dt>\n",
              "                <dd><code>prac05</code></dd>\n",
              "            </dl>\n",
              "        </div>\n",
              "        \n",
              "            </div>\n",
              "        "
            ]
          },
          "metadata": {},
          "execution_count": 9
        }
      ],
      "source": [
        "!pip install pyspark\n",
        "!pip install datetime-month\n",
        "\n",
        "from pyspark.sql import SparkSession\n",
        "from pyspark.sql.functions import *\n",
        "\n",
        "spark = SparkSession.builder.appName('prac05').getOrCreate()\n",
        "spark"
      ]
    },
    {
      "cell_type": "code",
      "source": [
        "text_rdd = spark.sparkContext.textFile(\"/content/drive/MyDrive/Colab Notebooks/spark/weather_data.txt\")\n",
        "\n",
        "map_rdd = text_rdd.map(lambda line: line.split(' ')).toDF([ \n",
        "    'WBANNO','LST_DATE','CRX_VN','LONGITUDE','LATITUDE','T_DAILY_MAX','T_DAILY_MIN', 'T_DAILY_MEAN'\n",
        "])\n",
        "\n",
        "map_rdd.show(2)"
      ],
      "metadata": {
        "colab": {
          "base_uri": "https://localhost:8080/"
        },
        "id": "paFQyaL1yXG6",
        "outputId": "4dc671f1-d6eb-4c95-d9c3-ecec398642ea"
      },
      "execution_count": 4,
      "outputs": [
        {
          "output_type": "stream",
          "name": "stdout",
          "text": [
            "+------+--------+------+---------+--------+-----------+-----------+------------+---+---+----+---+---+---+---+-----+----+----+-----+-----+-------+-------+-------+---+---+-------+-------+-------+\n",
            "|WBANNO|LST_DATE|CRX_VN|LONGITUDE|LATITUDE|T_DAILY_MAX|T_DAILY_MIN|T_DAILY_MEAN| _9|_10| _11|_12|_13|_14|_15|  _16| _17| _18|  _19|  _20|    _21|    _22|    _23|_24|_25|    _26|    _27|    _28|\n",
            "+------+--------+------+---------+--------+-----------+-----------+------------+---+---+----+---+---+---+---+-----+----+----+-----+-----+-------+-------+-------+---+---+-------+-------+-------+\n",
            "| 23907|20150101| 2.423|   -98.08|   30.62|        2.2|       -0.6|         0.8|0.9|6.2|1.47|  C|3.7|1.1|2.5| 99.9|85.4|97.2|0.369|0.308|-99.000|-99.000|-99.000|7.0|8.1|-9999.0|-9999.0|-9999.0|\n",
            "| 23907|20150102| 2.423|   -98.08|   30.62|        3.5|        1.3|         2.4|2.2|9.0|1.43|  C|4.9|2.3|3.1|100.0|98.8|99.8|0.391|0.327|-99.000|-99.000|-99.000|7.1|7.9|-9999.0|-9999.0|-9999.0|\n",
            "+------+--------+------+---------+--------+-----------+-----------+------------+---+---+----+---+---+---+---+-----+----+----+-----+-----+-------+-------+-------+---+---+-------+-------+-------+\n",
            "only showing top 2 rows\n",
            "\n"
          ]
        }
      ]
    },
    {
      "cell_type": "code",
      "source": [
        "map_rdd.select( max('T_DAILY_MAX'), min('T_DAILY_MIN')).show()"
      ],
      "metadata": {
        "colab": {
          "base_uri": "https://localhost:8080/"
        },
        "id": "oJlo2zyAyXJI",
        "outputId": "12a299f2-5043-4b07-c2e5-0de56918a566"
      },
      "execution_count": 5,
      "outputs": [
        {
          "output_type": "stream",
          "name": "stdout",
          "text": [
            "+----------------+----------------+\n",
            "|max(T_DAILY_MAX)|min(T_DAILY_MIN)|\n",
            "+----------------+----------------+\n",
            "|             9.4|            -0.2|\n",
            "+----------------+----------------+\n",
            "\n"
          ]
        }
      ]
    },
    {
      "cell_type": "code",
      "source": [
        "map_rdd.select( substring('LST_DATE', 5, 2).alias('monthVal'),'T_DAILY_MAX', 'T_DAILY_MIN')\\\n",
        "        .groupby('monthVal')\\\n",
        "        .agg(max('T_DAILY_MAX'), min('T_DAILY_MIN'))\\\n",
        "        .show()"
      ],
      "metadata": {
        "colab": {
          "base_uri": "https://localhost:8080/"
        },
        "id": "aX29F7ueyXKt",
        "outputId": "ea51bbb6-822e-4432-b39c-352c34a9685c"
      },
      "execution_count": 8,
      "outputs": [
        {
          "output_type": "stream",
          "name": "stdout",
          "text": [
            "+--------+----------------+----------------+\n",
            "|monthVal|max(T_DAILY_MAX)|min(T_DAILY_MIN)|\n",
            "+--------+----------------+----------------+\n",
            "|      01|             9.4|            -0.6|\n",
            "|      02|             9.4|            -0.4|\n",
            "|      03|             4.9|            -0.2|\n",
            "|      04|            30.8|            10.7|\n",
            "|      05|            31.1|            14.3|\n",
            "|      06|            33.6|             0.0|\n",
            "|      07|            36.0|            19.8|\n",
            "+--------+----------------+----------------+\n",
            "\n"
          ]
        }
      ]
    },
    {
      "cell_type": "markdown",
      "source": [
        "### with sql query"
      ],
      "metadata": {
        "id": "aOW56P2I1_lS"
      }
    },
    {
      "cell_type": "code",
      "source": [
        "map_rdd.select( substring('LST_DATE', 5, 2).alias('monthVal'),'T_DAILY_MAX', 'T_DAILY_MIN').registerTempTable(\"weather\")"
      ],
      "metadata": {
        "colab": {
          "base_uri": "https://localhost:8080/"
        },
        "id": "odLykWqT2p1H",
        "outputId": "3da85d89-cadd-4174-99c5-a056dc67a621"
      },
      "execution_count": 13,
      "outputs": [
        {
          "output_type": "stream",
          "name": "stderr",
          "text": [
            "/usr/local/lib/python3.8/dist-packages/pyspark/sql/dataframe.py:229: FutureWarning: Deprecated in 2.0, use createOrReplaceTempView instead.\n",
            "  warnings.warn(\"Deprecated in 2.0, use createOrReplaceTempView instead.\", FutureWarning)\n"
          ]
        }
      ]
    },
    {
      "cell_type": "code",
      "source": [
        "query = ''' \n",
        "select monthVal, max(T_DAILY_MAX), min(T_DAILY_MIN) from weather \n",
        "group by monthVal\n",
        "'''\n",
        "\n",
        "spark.sql(query).show()"
      ],
      "metadata": {
        "colab": {
          "base_uri": "https://localhost:8080/"
        },
        "id": "E_ub7JovyXN5",
        "outputId": "36ba9cdf-4572-4408-ef86-c8948632f255"
      },
      "execution_count": 14,
      "outputs": [
        {
          "output_type": "stream",
          "name": "stdout",
          "text": [
            "+--------+----------------+----------------+\n",
            "|monthVal|max(T_DAILY_MAX)|min(T_DAILY_MIN)|\n",
            "+--------+----------------+----------------+\n",
            "|      01|             9.4|            -0.6|\n",
            "|      02|             9.4|            -0.4|\n",
            "|      03|             4.9|            -0.2|\n",
            "|      04|            30.8|            10.7|\n",
            "|      05|            31.1|            14.3|\n",
            "|      06|            33.6|             0.0|\n",
            "|      07|            36.0|            19.8|\n",
            "+--------+----------------+----------------+\n",
            "\n"
          ]
        }
      ]
    },
    {
      "cell_type": "code",
      "source": [],
      "metadata": {
        "id": "xciHAK21yXRY"
      },
      "execution_count": null,
      "outputs": []
    }
  ]
}